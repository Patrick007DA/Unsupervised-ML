{
 "cells": [
  {
   "cell_type": "code",
   "execution_count": 1,
   "id": "0a799d4b",
   "metadata": {},
   "outputs": [],
   "source": [
    "import pandas as pd \n",
    "import numpy as np\n",
    "from sklearn.cluster import KMeans\n",
    "from sklearn.preprocessing import LabelEncoder\n",
    "from sklearn.preprocessing import MinMaxScaler\n",
    "from scipy.spatial.distance import cdist\n",
    "import seaborn as sns \n",
    "import matplotlib.pyplot as plt\n",
    "%matplotlib inline\n",
    "import os"
   ]
  },
  {
   "cell_type": "code",
   "execution_count": 2,
   "id": "56cfd28f",
   "metadata": {},
   "outputs": [],
   "source": [
    "import warnings\n",
    "\n",
    "warnings.filterwarnings('ignore')"
   ]
  },
  {
   "cell_type": "code",
   "execution_count": 3,
   "id": "99626db3",
   "metadata": {},
   "outputs": [],
   "source": [
    "os.chdir(r'C:\\Users\\Pratik G Ratnaparkhi\\Desktop\\IVY Python')\n",
    "path_data = os.getcwd()\n",
    "data = pd.read_csv('Mall_Customers.csv')"
   ]
  },
  {
   "cell_type": "code",
   "execution_count": 4,
   "id": "d9263f3e",
   "metadata": {
    "scrolled": true
   },
   "outputs": [
    {
     "data": {
      "text/html": [
       "<div>\n",
       "<style scoped>\n",
       "    .dataframe tbody tr th:only-of-type {\n",
       "        vertical-align: middle;\n",
       "    }\n",
       "\n",
       "    .dataframe tbody tr th {\n",
       "        vertical-align: top;\n",
       "    }\n",
       "\n",
       "    .dataframe thead th {\n",
       "        text-align: right;\n",
       "    }\n",
       "</style>\n",
       "<table border=\"1\" class=\"dataframe\">\n",
       "  <thead>\n",
       "    <tr style=\"text-align: right;\">\n",
       "      <th></th>\n",
       "      <th>CustomerID</th>\n",
       "      <th>Genre</th>\n",
       "      <th>Age</th>\n",
       "      <th>Annual Income (k$)</th>\n",
       "      <th>Spending Score (1-100)</th>\n",
       "    </tr>\n",
       "  </thead>\n",
       "  <tbody>\n",
       "    <tr>\n",
       "      <th>0</th>\n",
       "      <td>1</td>\n",
       "      <td>Male</td>\n",
       "      <td>19</td>\n",
       "      <td>15</td>\n",
       "      <td>39</td>\n",
       "    </tr>\n",
       "    <tr>\n",
       "      <th>1</th>\n",
       "      <td>2</td>\n",
       "      <td>Male</td>\n",
       "      <td>21</td>\n",
       "      <td>15</td>\n",
       "      <td>81</td>\n",
       "    </tr>\n",
       "    <tr>\n",
       "      <th>2</th>\n",
       "      <td>3</td>\n",
       "      <td>Female</td>\n",
       "      <td>20</td>\n",
       "      <td>16</td>\n",
       "      <td>6</td>\n",
       "    </tr>\n",
       "    <tr>\n",
       "      <th>3</th>\n",
       "      <td>4</td>\n",
       "      <td>Female</td>\n",
       "      <td>23</td>\n",
       "      <td>16</td>\n",
       "      <td>77</td>\n",
       "    </tr>\n",
       "    <tr>\n",
       "      <th>4</th>\n",
       "      <td>5</td>\n",
       "      <td>Female</td>\n",
       "      <td>31</td>\n",
       "      <td>17</td>\n",
       "      <td>40</td>\n",
       "    </tr>\n",
       "  </tbody>\n",
       "</table>\n",
       "</div>"
      ],
      "text/plain": [
       "   CustomerID   Genre  Age  Annual Income (k$)  Spending Score (1-100)\n",
       "0           1    Male   19                  15                      39\n",
       "1           2    Male   21                  15                      81\n",
       "2           3  Female   20                  16                       6\n",
       "3           4  Female   23                  16                      77\n",
       "4           5  Female   31                  17                      40"
      ]
     },
     "execution_count": 4,
     "metadata": {},
     "output_type": "execute_result"
    }
   ],
   "source": [
    "data.head()"
   ]
  },
  {
   "cell_type": "code",
   "execution_count": 5,
   "id": "c083364d",
   "metadata": {},
   "outputs": [
    {
     "data": {
      "text/html": [
       "<div>\n",
       "<style scoped>\n",
       "    .dataframe tbody tr th:only-of-type {\n",
       "        vertical-align: middle;\n",
       "    }\n",
       "\n",
       "    .dataframe tbody tr th {\n",
       "        vertical-align: top;\n",
       "    }\n",
       "\n",
       "    .dataframe thead th {\n",
       "        text-align: right;\n",
       "    }\n",
       "</style>\n",
       "<table border=\"1\" class=\"dataframe\">\n",
       "  <thead>\n",
       "    <tr style=\"text-align: right;\">\n",
       "      <th></th>\n",
       "      <th>CustomerID</th>\n",
       "      <th>Gender</th>\n",
       "      <th>Age</th>\n",
       "      <th>Annual_Income</th>\n",
       "      <th>Spending_Score</th>\n",
       "    </tr>\n",
       "  </thead>\n",
       "  <tbody>\n",
       "    <tr>\n",
       "      <th>0</th>\n",
       "      <td>1</td>\n",
       "      <td>Male</td>\n",
       "      <td>19</td>\n",
       "      <td>15</td>\n",
       "      <td>39</td>\n",
       "    </tr>\n",
       "    <tr>\n",
       "      <th>1</th>\n",
       "      <td>2</td>\n",
       "      <td>Male</td>\n",
       "      <td>21</td>\n",
       "      <td>15</td>\n",
       "      <td>81</td>\n",
       "    </tr>\n",
       "    <tr>\n",
       "      <th>2</th>\n",
       "      <td>3</td>\n",
       "      <td>Female</td>\n",
       "      <td>20</td>\n",
       "      <td>16</td>\n",
       "      <td>6</td>\n",
       "    </tr>\n",
       "    <tr>\n",
       "      <th>3</th>\n",
       "      <td>4</td>\n",
       "      <td>Female</td>\n",
       "      <td>23</td>\n",
       "      <td>16</td>\n",
       "      <td>77</td>\n",
       "    </tr>\n",
       "    <tr>\n",
       "      <th>4</th>\n",
       "      <td>5</td>\n",
       "      <td>Female</td>\n",
       "      <td>31</td>\n",
       "      <td>17</td>\n",
       "      <td>40</td>\n",
       "    </tr>\n",
       "  </tbody>\n",
       "</table>\n",
       "</div>"
      ],
      "text/plain": [
       "   CustomerID  Gender  Age  Annual_Income  Spending_Score\n",
       "0           1    Male   19             15              39\n",
       "1           2    Male   21             15              81\n",
       "2           3  Female   20             16               6\n",
       "3           4  Female   23             16              77\n",
       "4           5  Female   31             17              40"
      ]
     },
     "execution_count": 5,
     "metadata": {},
     "output_type": "execute_result"
    }
   ],
   "source": [
    "#Renaming The Columns name\n",
    "data.rename(columns={\"Genre\":\"Gender\"\n",
    "                     ,\"Annual Income (k$)\":\"Annual_Income\",\n",
    "                     \"Spending Score (1-100)\":\"Spending_Score\"},inplace=True)\n",
    "data.head()"
   ]
  },
  {
   "cell_type": "code",
   "execution_count": 6,
   "id": "69edff96",
   "metadata": {},
   "outputs": [
    {
     "data": {
      "text/html": [
       "<div>\n",
       "<style scoped>\n",
       "    .dataframe tbody tr th:only-of-type {\n",
       "        vertical-align: middle;\n",
       "    }\n",
       "\n",
       "    .dataframe tbody tr th {\n",
       "        vertical-align: top;\n",
       "    }\n",
       "\n",
       "    .dataframe thead th {\n",
       "        text-align: right;\n",
       "    }\n",
       "</style>\n",
       "<table border=\"1\" class=\"dataframe\">\n",
       "  <thead>\n",
       "    <tr style=\"text-align: right;\">\n",
       "      <th></th>\n",
       "      <th>Gender</th>\n",
       "      <th>Spending_Score</th>\n",
       "    </tr>\n",
       "  </thead>\n",
       "  <tbody>\n",
       "    <tr>\n",
       "      <th>0</th>\n",
       "      <td>Female</td>\n",
       "      <td>51.526786</td>\n",
       "    </tr>\n",
       "    <tr>\n",
       "      <th>1</th>\n",
       "      <td>Male</td>\n",
       "      <td>48.511364</td>\n",
       "    </tr>\n",
       "  </tbody>\n",
       "</table>\n",
       "</div>"
      ],
      "text/plain": [
       "   Gender  Spending_Score\n",
       "0  Female       51.526786\n",
       "1    Male       48.511364"
      ]
     },
     "execution_count": 6,
     "metadata": {},
     "output_type": "execute_result"
    }
   ],
   "source": [
    "#Avg Score spends by Gender\n",
    "Avg_score = data[['Gender','Spending_Score']].groupby(['Gender'],as_index=False).mean()\n",
    "Avg_score"
   ]
  },
  {
   "cell_type": "code",
   "execution_count": null,
   "id": "c59a6496",
   "metadata": {},
   "outputs": [],
   "source": []
  },
  {
   "cell_type": "code",
   "execution_count": 7,
   "id": "c936785e",
   "metadata": {},
   "outputs": [
    {
     "data": {
      "text/html": [
       "<div>\n",
       "<style scoped>\n",
       "    .dataframe tbody tr th:only-of-type {\n",
       "        vertical-align: middle;\n",
       "    }\n",
       "\n",
       "    .dataframe tbody tr th {\n",
       "        vertical-align: top;\n",
       "    }\n",
       "\n",
       "    .dataframe thead th {\n",
       "        text-align: right;\n",
       "    }\n",
       "</style>\n",
       "<table border=\"1\" class=\"dataframe\">\n",
       "  <thead>\n",
       "    <tr style=\"text-align: right;\">\n",
       "      <th></th>\n",
       "      <th>Gender</th>\n",
       "      <th>Age</th>\n",
       "    </tr>\n",
       "  </thead>\n",
       "  <tbody>\n",
       "    <tr>\n",
       "      <th>0</th>\n",
       "      <td>Female</td>\n",
       "      <td>38.098214</td>\n",
       "    </tr>\n",
       "    <tr>\n",
       "      <th>1</th>\n",
       "      <td>Male</td>\n",
       "      <td>39.806818</td>\n",
       "    </tr>\n",
       "  </tbody>\n",
       "</table>\n",
       "</div>"
      ],
      "text/plain": [
       "   Gender        Age\n",
       "0  Female  38.098214\n",
       "1    Male  39.806818"
      ]
     },
     "execution_count": 7,
     "metadata": {},
     "output_type": "execute_result"
    }
   ],
   "source": [
    "#Avg Age Of Male And Female\n",
    "Avg_Age = data[['Gender','Age']].groupby(['Gender'],as_index=False).mean()\n",
    "Avg_Age"
   ]
  },
  {
   "cell_type": "code",
   "execution_count": 8,
   "id": "5da22e30",
   "metadata": {},
   "outputs": [],
   "source": [
    "#we will do some basic Data Visualization"
   ]
  },
  {
   "cell_type": "code",
   "execution_count": 9,
   "id": "c3efc83a",
   "metadata": {},
   "outputs": [
    {
     "data": {
      "text/plain": [
       "<seaborn.axisgrid.FacetGrid at 0x24bfe222910>"
      ]
     },
     "execution_count": 9,
     "metadata": {},
     "output_type": "execute_result"
    },
    {
     "data": {
      "image/png": "[encoded data removed]",
      "text/plain": [
       "<Figure size 432x216 with 2 Axes>"
      ]
     },
     "metadata": {
      "needs_background": "light"
     },
     "output_type": "display_data"
    }
   ],
   "source": [
    "#Income wrt Genre\n",
    "g = sns.FacetGrid(data,col='Gender')\n",
    "g.map(plt.hist,'Annual_Income',bins=20)"
   ]
  },
  {
   "cell_type": "code",
   "execution_count": 10,
   "id": "acb4e13a",
   "metadata": {},
   "outputs": [
    {
     "data": {
      "text/plain": [
       "<seaborn.axisgrid.PairGrid at 0x24b8007d640>"
      ]
     },
     "execution_count": 10,
     "metadata": {},
     "output_type": "execute_result"
    },
    {
     "data": {
      "image/png": "[encoded data removed]",
      "text/plain": [
       "<Figure size 540x540 with 12 Axes>"
      ]
     },
     "metadata": {
      "needs_background": "light"
     },
     "output_type": "display_data"
    }
   ],
   "source": [
    "#Ploting pairplot\n",
    "sns.pairplot(data[['Age','Annual_Income','Spending_Score']])"
   ]
  },
  {
   "cell_type": "code",
   "execution_count": 11,
   "id": "587ca793",
   "metadata": {},
   "outputs": [
    {
     "data": {
      "image/png": "[encoded data removed]",
      "text/plain": [
       "<Figure size 432x288 with 3 Axes>"
      ]
     },
     "metadata": {
      "needs_background": "light"
     },
     "output_type": "display_data"
    }
   ],
   "source": [
    "#Checking For Outliers using Box-Plot\n",
    "plt.subplot(1,3,1)\n",
    "plt.boxplot(data['Age'])\n",
    "plt.title('Age')\n",
    "plt.subplot(1,3,2)\n",
    "plt.boxplot(data['Annual_Income'])\n",
    "plt.title('Annual_Income')\n",
    "plt.subplot(1,3,3)\n",
    "plt.boxplot(data['Spending_Score'])\n",
    "plt.title('Spending_Score')\n",
    "plt.tight_layout()"
   ]
  },
  {
   "cell_type": "code",
   "execution_count": 12,
   "id": "7473c002",
   "metadata": {},
   "outputs": [],
   "source": [
    "#droping Gender feature\n",
    "x = data.drop(['Gender','CustomerID'],axis=1)\n",
    "y = data['Gender']"
   ]
  },
  {
   "cell_type": "code",
   "execution_count": 13,
   "id": "b8590d23",
   "metadata": {},
   "outputs": [],
   "source": [
    "# As we are clustering on the basis of Age, Income and Score \n",
    "# We will drop gender column"
   ]
  },
  {
   "cell_type": "code",
   "execution_count": 14,
   "id": "3ca055f6",
   "metadata": {},
   "outputs": [
    {
     "name": "stdout",
     "output_type": "stream",
     "text": [
      "   Age  Annual_Income  Spending_Score\n",
      "0   19             15              39\n",
      "1   21             15              81\n",
      "2   20             16               6\n",
      "3   23             16              77\n",
      "4   31             17              40\n",
      "0      Male\n",
      "1      Male\n",
      "2    Female\n",
      "3    Female\n",
      "4    Female\n",
      "Name: Gender, dtype: object\n"
     ]
    }
   ],
   "source": [
    "print(x.head())\n",
    "\n",
    "print(y.head())\n"
   ]
  },
  {
   "cell_type": "code",
   "execution_count": 15,
   "id": "a92ef161",
   "metadata": {},
   "outputs": [
    {
     "name": "stdout",
     "output_type": "stream",
     "text": [
      "              Age  Annual_Income  Spending_Score\n",
      "count  200.000000     200.000000      200.000000\n",
      "mean    38.850000      60.560000       50.200000\n",
      "std     13.969007      26.264721       25.823522\n",
      "min     18.000000      15.000000        1.000000\n",
      "25%     28.750000      41.500000       34.750000\n",
      "50%     36.000000      61.500000       50.000000\n",
      "75%     49.000000      78.000000       73.000000\n",
      "max     70.000000     137.000000       99.000000\n"
     ]
    }
   ],
   "source": [
    "#Exploratory Data Analysis\n",
    "print(x.describe(include=\"all\"))"
   ]
  },
  {
   "cell_type": "code",
   "execution_count": 16,
   "id": "8ae40824",
   "metadata": {},
   "outputs": [
    {
     "name": "stdout",
     "output_type": "stream",
     "text": [
      "Age               0\n",
      "Annual_Income     0\n",
      "Spending_Score    0\n",
      "dtype: int64\n"
     ]
    }
   ],
   "source": [
    "#checking missing values\n",
    "print(x.isna().sum())"
   ]
  },
  {
   "cell_type": "code",
   "execution_count": 17,
   "id": "e56133e2",
   "metadata": {},
   "outputs": [],
   "source": [
    "#Feature Scaling\n",
    "from sklearn.preprocessing import StandardScaler\n",
    "scaler1 = StandardScaler()\n",
    "x_scaled = scaler1.fit_transform(x)"
   ]
  },
  {
   "cell_type": "code",
   "execution_count": 18,
   "id": "44a0d731",
   "metadata": {},
   "outputs": [],
   "source": [
    "x_scaled = pd.DataFrame(x_scaled)"
   ]
  },
  {
   "cell_type": "code",
   "execution_count": 19,
   "id": "03472ddd",
   "metadata": {},
   "outputs": [],
   "source": [
    "kmeans=KMeans(algorithm='auto', copy_x=True, init='k-means++', max_iter=300,\n",
    "       n_clusters=2, n_init=10, n_jobs=1, precompute_distances='auto',\n",
    "       random_state=0, tol=0.0001, verbose=0)\n",
    "x_scaled1 = x_scaled._get_numeric_data().dropna(axis=1)\n",
    "kmeans.fit(x_scaled1)\n",
    "predict=kmeans.predict(x_scaled1)\n"
   ]
  },
  {
   "cell_type": "code",
   "execution_count": 20,
   "id": "7089df72",
   "metadata": {},
   "outputs": [
    {
     "data": {
      "text/plain": [
       "array([[-0.75277339,  0.00262858,  0.74265245],\n",
       "       [ 0.70892251, -0.00247545, -0.69939115]])"
      ]
     },
     "execution_count": 20,
     "metadata": {},
     "output_type": "execute_result"
    }
   ],
   "source": [
    "kmeans.cluster_centers_"
   ]
  },
  {
   "cell_type": "code",
   "execution_count": 21,
   "id": "d94f16c1",
   "metadata": {},
   "outputs": [
    {
     "data": {
      "text/plain": [
       "389.38618895643714"
      ]
     },
     "execution_count": 21,
     "metadata": {},
     "output_type": "execute_result"
    }
   ],
   "source": [
    "kmeans.inertia_"
   ]
  },
  {
   "cell_type": "code",
   "execution_count": 22,
   "id": "e0a38da9",
   "metadata": {},
   "outputs": [],
   "source": [
    "inertias = []\n",
    "mapping = {}\n",
    "\n",
    "for k in range(1,10):\n",
    "    kmeansmodel = KMeans(n_clusters=k, init = 'k-means++', max_iter = 300, n_init = 10, random_state = 0)\n",
    "    kmeansmodel.fit(x_scaled)\n",
    "    inertias.append(kmeansmodel.inertia_)\n",
    "    mapping[k] = kmeansmodel.inertia_"
   ]
  },
  {
   "cell_type": "code",
   "execution_count": 23,
   "id": "8ea1963b",
   "metadata": {},
   "outputs": [
    {
     "data": {
      "image/png": "[encoded data removed]",
      "text/plain": [
       "<Figure size 432x288 with 1 Axes>"
      ]
     },
     "metadata": {
      "needs_background": "light"
     },
     "output_type": "display_data"
    }
   ],
   "source": [
    "#ploting Elbow plot to know the number of clusters \n",
    "plt.plot(range(1, 10), inertias)\n",
    "plt.title('Elbow Method')\n",
    "plt.xlabel('Number of clusters')\n",
    "plt.ylabel('Inertias')\n",
    "plt.show()"
   ]
  },
  {
   "cell_type": "code",
   "execution_count": 56,
   "id": "85d0ab2c",
   "metadata": {},
   "outputs": [
    {
     "name": "stdout",
     "output_type": "stream",
     "text": [
      "For n_clusters=2, the silhouette score is 0.44469909655806533\n",
      "For n_clusters=3, the silhouette score is 0.44004203374566925\n",
      "For n_clusters=4, the silhouette score is 0.4812592046464349\n",
      "For n_clusters=5, the silhouette score is 0.4700106743569381\n",
      "For n_clusters=6, the silhouette score is 0.4585278548882639\n",
      "For n_clusters=7, the silhouette score is 0.4420896077242804\n"
     ]
    }
   ],
   "source": [
    "#Checking Silhouette score\n",
    "from sklearn.metrics import silhouette_score\n",
    "range_k = [2,3,4,5,6,7]\n",
    "for i in range_k:\n",
    "    kmeans = KMeans(algorithm='auto', copy_x=True, init='k-means++', max_iter=300,\n",
    "       n_clusters=i, n_init=10, n_jobs=1, precompute_distances='auto',\n",
    "       random_state=0, tol=0.0001, verbose=0)\n",
    "    kmeans.fit(x_scaled)\n",
    "    clabel = kmeans.labels_\n",
    "    score = silhouette_score(x_scaled,clabel)\n",
    "    print(\"For n_clusters={0}, the silhouette score is {1}\".format(i, score))"
   ]
  },
  {
   "cell_type": "code",
   "execution_count": 73,
   "id": "cbdbc932",
   "metadata": {},
   "outputs": [],
   "source": [
    "#From plot lets make a final model with k=4\n",
    "x_scaled = pd.DataFrame(x_scaled)\n",
    "kmeans=KMeans(algorithm='auto', copy_x=True, init='k-means++', max_iter=300,\n",
    "       n_clusters=4, n_init=10, n_jobs=1, precompute_distances='auto',\n",
    "       random_state=0, tol=0.0001, verbose=0)\n",
    "x_scaled1 = x_scaled._get_numeric_data().dropna(axis=1)\n",
    "kmeans.fit(x_scaled1)\n",
    "predict=kmeans.predict(x_scaled1)"
   ]
  },
  {
   "cell_type": "code",
   "execution_count": 74,
   "id": "bca95c69",
   "metadata": {},
   "outputs": [],
   "source": [
    "x_scaled = pd.DataFrame(x_scaled)"
   ]
  },
  {
   "cell_type": "code",
   "execution_count": 75,
   "id": "ee3590aa",
   "metadata": {},
   "outputs": [
    {
     "data": {
      "text/plain": [
       "0      3\n",
       "1      3\n",
       "2      3\n",
       "3      3\n",
       "4      3\n",
       "      ..\n",
       "195    1\n",
       "196    0\n",
       "197    1\n",
       "198    0\n",
       "199    1\n",
       "Length: 200, dtype: int32"
      ]
     },
     "execution_count": 75,
     "metadata": {},
     "output_type": "execute_result"
    }
   ],
   "source": [
    "x_scaled1 = x_scaled['clusters']=pd.Series(predict,index=x_scaled.index)\n",
    "x_scaled1"
   ]
  },
  {
   "cell_type": "code",
   "execution_count": 76,
   "id": "80dfb16a",
   "metadata": {},
   "outputs": [
    {
     "data": {
      "text/html": [
       "<div>\n",
       "<style scoped>\n",
       "    .dataframe tbody tr th:only-of-type {\n",
       "        vertical-align: middle;\n",
       "    }\n",
       "\n",
       "    .dataframe tbody tr th {\n",
       "        vertical-align: top;\n",
       "    }\n",
       "\n",
       "    .dataframe thead th {\n",
       "        text-align: right;\n",
       "    }\n",
       "</style>\n",
       "<table border=\"1\" class=\"dataframe\">\n",
       "  <thead>\n",
       "    <tr style=\"text-align: right;\">\n",
       "      <th></th>\n",
       "      <th>Age</th>\n",
       "      <th>Annual_Income</th>\n",
       "      <th>Spending_Score</th>\n",
       "      <th>cluster_id</th>\n",
       "    </tr>\n",
       "  </thead>\n",
       "  <tbody>\n",
       "    <tr>\n",
       "      <th>0</th>\n",
       "      <td>19</td>\n",
       "      <td>15</td>\n",
       "      <td>39</td>\n",
       "      <td>3</td>\n",
       "    </tr>\n",
       "    <tr>\n",
       "      <th>1</th>\n",
       "      <td>21</td>\n",
       "      <td>15</td>\n",
       "      <td>81</td>\n",
       "      <td>3</td>\n",
       "    </tr>\n",
       "    <tr>\n",
       "      <th>2</th>\n",
       "      <td>20</td>\n",
       "      <td>16</td>\n",
       "      <td>6</td>\n",
       "      <td>3</td>\n",
       "    </tr>\n",
       "    <tr>\n",
       "      <th>3</th>\n",
       "      <td>23</td>\n",
       "      <td>16</td>\n",
       "      <td>77</td>\n",
       "      <td>3</td>\n",
       "    </tr>\n",
       "    <tr>\n",
       "      <th>4</th>\n",
       "      <td>31</td>\n",
       "      <td>17</td>\n",
       "      <td>40</td>\n",
       "      <td>3</td>\n",
       "    </tr>\n",
       "  </tbody>\n",
       "</table>\n",
       "</div>"
      ],
      "text/plain": [
       "   Age  Annual_Income  Spending_Score  cluster_id\n",
       "0   19             15              39           3\n",
       "1   21             15              81           3\n",
       "2   20             16               6           3\n",
       "3   23             16              77           3\n",
       "4   31             17              40           3"
      ]
     },
     "execution_count": 76,
     "metadata": {},
     "output_type": "execute_result"
    }
   ],
   "source": [
    "x['cluster_id'] = kmeans.labels_\n",
    "x.head()"
   ]
  },
  {
   "cell_type": "code",
   "execution_count": 77,
   "id": "2df27d26",
   "metadata": {},
   "outputs": [
    {
     "data": {
      "text/plain": [
       "<AxesSubplot:xlabel='cluster_id', ylabel='Spending_Score'>"
      ]
     },
     "execution_count": 77,
     "metadata": {},
     "output_type": "execute_result"
    },
    {
     "data": {
      "image/png": "[encoded data removed]",
      "text/plain": [
       "<Figure size 432x288 with 1 Axes>"
      ]
     },
     "metadata": {
      "needs_background": "light"
     },
     "output_type": "display_data"
    }
   ],
   "source": [
    "sns.boxplot(x='cluster_id', y='Spending_Score', data=x)"
   ]
  },
  {
   "cell_type": "code",
   "execution_count": null,
   "id": "4a2ec41a",
   "metadata": {},
   "outputs": [],
   "source": []
  }
 ],
 "metadata": {
  "kernelspec": {
   "display_name": "Python 3",
   "language": "python",
   "name": "python3"
  },
  "language_info": {
   "codemirror_mode": {
    "name": "ipython",
    "version": 3
   },
   "file_extension": ".py",
   "mimetype": "text/x-python",
   "name": "python",
   "nbconvert_exporter": "python",
   "pygments_lexer": "ipython3",
   "version": "3.8.8"
  }
 },
 "nbformat": 4,
 "nbformat_minor": 5
}
